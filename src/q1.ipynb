{
 "cells": [
  {
   "cell_type": "markdown",
   "id": "b917d731",
   "metadata": {},
   "source": [
    "### 数据探查"
   ]
  },
  {
   "cell_type": "markdown",
   "id": "fe048aae",
   "metadata": {},
   "source": [
    "#### 数据加载和初识"
   ]
  },
  {
   "cell_type": "code",
   "execution_count": 7,
   "id": "a58b01e3",
   "metadata": {},
   "outputs": [
    {
     "name": "stdout",
     "output_type": "stream",
     "text": [
      "shape：(704669, 12)\n",
      "columns:Index(['LocalTime', 'TradingDay', 'InstrumentID', 'ExchangeID', 'LastPrice',\n",
      "       'Volume', 'Turnover', 'UpperLimitPrice', 'LowerLimitPrice',\n",
      "       'UpdateTime', 'UpdateMillisec', 'ActionDay'],\n",
      "      dtype='object')\n",
      "前三行数据内容：\n",
      "             LocalTime TradingDay InstrumentID ExchangeID  LastPrice  Volume  \\\n",
      "0  1640089802520605952   20211222        y2212        DCE     8066.0       0   \n",
      "1  1640089802520635092   20211222        v2212        DCE     8231.0       0   \n",
      "2  1640089802520668444   20211222       ag2212       SHFE     4868.0       0   \n",
      "\n",
      "   Turnover  UpperLimitPrice  LowerLimitPrice UpdateTime  UpdateMillisec  \\\n",
      "0       0.0           8564.0           7444.0   18:34:55               0   \n",
      "1       0.0           8806.0           7654.0   18:34:55               0   \n",
      "2       0.0           5331.0           4362.0   18:35:30             400   \n",
      "\n",
      "  ActionDay  \n",
      "0  20211222  \n",
      "1  20211222  \n",
      "2  20211221  \n"
     ]
    }
   ],
   "source": [
    "import pandas as pd\n",
    "import numpy as np\n",
    "from pyspark import SparkConf, SparkContext\n",
    "from pyspark.sql import SQLContext\n",
    "\n",
    "# 读取.parquet文件\n",
    "df = pd.read_parquet(\"../interview.parquet\")\n",
    "\n",
    "print(\"shape：\"+str(df.shape))\n",
    "print(\"columns:\"+str(df.columns))  # 获取数据条数和列名\n",
    "\n",
    "print(\"前三行数据内容：\\n\"+str(df.head(3)))  # 获取前三行内容\n"
   ]
  },
  {
   "cell_type": "markdown",
   "id": "c3d3bd57",
   "metadata": {
    "pycharm": {
     "name": "#%% md\n"
    }
   },
   "source": [
    "##### 统计LocalTime的单调性\n",
    "检查是否存在LocalTime乱序情况"
   ]
  },
  {
   "cell_type": "code",
   "execution_count": 8,
   "outputs": [
    {
     "name": "stdout",
     "output_type": "stream",
     "text": [
      "LocalTime不存在乱序\n"
     ]
    }
   ],
   "source": [
    "count = 0\n",
    "for index in range(1, len(df['LocalTime'])):\n",
    "    if (df['LocalTime'][index] < df['LocalTime'][index - 1]):\n",
    "        count += 1\n",
    "        # print(count)\n",
    "\n",
    "if(count==0):\n",
    "    print(\"LocalTime不存在乱序\")\n",
    "else:\n",
    "    print(\"LocalTime存在乱序，乱序次数：\"+str(count))\n"
   ],
   "metadata": {
    "collapsed": false,
    "pycharm": {
     "name": "#%%\n"
    }
   }
  },
  {
   "cell_type": "markdown",
   "source": [
    "##### 分交易所统计(UpdateTime,UpdateMullisec)单调性"
   ],
   "metadata": {
    "collapsed": false,
    "pycharm": {
     "name": "#%% md\n"
    }
   }
  },
  {
   "cell_type": "code",
   "execution_count": 10,
   "outputs": [
    {
     "name": "stdout",
     "output_type": "stream",
     "text": [
      "INE存在乱序，乱序次数：1\n",
      "CZCE存在乱序，乱序次数：7025\n",
      "DCE存在乱序，乱序次数：53399\n",
      "SHFE存在乱序，乱序次数：1\n"
     ]
    }
   ],
   "source": [
    "from datetime import datetime as dt\n",
    "\n",
    "def check_update_time(df,exchangeid):\n",
    "    disorder_cnt = 0\n",
    "    previous_index = 0\n",
    "    for index in range(1, len(df['UpdateTime'])):\n",
    "        if (df['ExchangeID'][index] == exchangeid):\n",
    "            if previous_index == 0:\n",
    "                previous_index = index\n",
    "                continue\n",
    "            if dt.strptime(df['UpdateTime'][index], \"%H:%M:%S\") < dt.strptime(df['UpdateTime'][previous_index],\n",
    "                                                                              \"%H:%M:%S\") or (\n",
    "                    dt.strptime(df['UpdateTime'][index], \"%H:%M:%S\") == dt.strptime(df['UpdateTime'][previous_index],\n",
    "                                                                                    \"%H:%M:%S\")\n",
    "                    and int(df['UpdateMillisec'][index]) < int(df['UpdateMillisec'][previous_index])):\n",
    "                disorder_cnt += 1\n",
    "            previous_index = index\n",
    "\n",
    "    if disorder_cnt == 0:\n",
    "        print(exchangeid+\"不存在乱序\")\n",
    "    else:\n",
    "        print(exchangeid+\"存在乱序，乱序次数：\" + str(disorder_cnt))\n",
    "    return\n",
    "\n",
    "check_update_time(df,'INE') #INE存在乱序，乱序次数：1\n",
    "check_update_time(df,'CZCE') #CZCE存在乱序，乱序次数：7025\n",
    "check_update_time(df,'DCE')  #DCE存在乱序，乱序次数：53399\n",
    "check_update_time(df,'SHFE') #SHFE存在乱序，乱序次数：1\n",
    "\n",
    "#\n",
    "# from pyspark import SparkConf, SparkContext\n",
    "# from pyspark.sql import SQLContext\n",
    "#\n",
    "# sc = SparkContext()\n",
    "# sqlContext = SQLContext(sc)\n",
    "# data = sqlContext.read.parquet(\"../interview.parquet\")\n",
    "# print(data.schema)\n",
    "# print(data.select(\"TradingDay\").agg({\"TradingDay\": \"min\"}).show()) #TradingDay min 20211221 max 20211222\n",
    "# print(data.select(\"ActionDay\").agg({\"ActionDay\": \"min\"}).show()) #ActionDay min 20211221 max 20211222\n",
    "# print(data.select(\"*\").where(\"TradingDay<ActionDay\").count()) # 293,802 不相等 #TradingDay比ActionDay大1天？\n",
    "#\n",
    "# ine = data.select(\"*\").where(\"ExchangeID='INE' and InstrumentID ='lu2212'\")\n",
    "#\n",
    "# print(\"======\")\n",
    "# # data.select(\"*\").where(ExchangeID=INE,)\n",
    "# print(data.select(\"*\").where(\"ExchangeID='INE' and InstrumentID ='lu2212'\").tail(30)) # 293,802 不相等 #TradingDay比ActionDay大1天？\n",
    "#\n",
    "\n"
   ],
   "metadata": {
    "collapsed": false,
    "pycharm": {
     "name": "#%%\n"
    }
   }
  }
 ],
 "metadata": {
  "kernelspec": {
   "name": "python3",
   "language": "python",
   "display_name": "Python 3 (ipykernel)"
  },
  "language_info": {
   "codemirror_mode": {
    "name": "ipython",
    "version": 3
   },
   "file_extension": ".py",
   "mimetype": "text/x-python",
   "name": "python",
   "nbconvert_exporter": "python",
   "pygments_lexer": "ipython3",
   "version": "3.9.7"
  }
 },
 "nbformat": 4,
 "nbformat_minor": 5
}